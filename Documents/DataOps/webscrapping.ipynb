{
 "cells": [
  {
   "cell_type": "code",
   "execution_count": null,
   "metadata": {},
   "outputs": [],
   "source": [
    "pip install beautifulsoup4 \n"
   ]
  },
  {
   "cell_type": "code",
   "execution_count": null,
   "metadata": {},
   "outputs": [],
   "source": [
    "pip install requests"
   ]
  },
  {
   "cell_type": "code",
   "execution_count": 21,
   "metadata": {},
   "outputs": [
    {
     "name": "stdout",
     "output_type": "stream",
     "text": [
      "<Response [200]>\n",
      "None\n"
     ]
    }
   ],
   "source": [
    "#libs\n",
    "import requests \n",
    "from bs4 import BeautifulSoup\n",
    "\n",
    "#Requisicao\n",
    "link = \"https://www.booking.com/searchresults.pt-br.html?ss=Rio+de+Janeiro%2C+Brasil\"\n",
    "requisicao = requests.get(link)\n",
    "print(requisicao)\n",
    "# print(requisicao.text)\n",
    "\n",
    "site = BeautifulSoup(requisicao.text, \"html.parser\")\n",
    "#print(site.prettify())\n",
    "\n",
    "tipo_hospedagem = site.find( ' span class=\"abf093bdfe e6208ee469\" ')\n",
    "print(tipo_hospedagem)\n",
    "\n",
    "#pesquisa = site.find_all(\"input\")\n",
    "#print(pesquisa[1])"
   ]
  }
 ],
 "metadata": {
  "kernelspec": {
   "display_name": "Python 3",
   "language": "python",
   "name": "python3"
  },
  "language_info": {
   "codemirror_mode": {
    "name": "ipython",
    "version": 3
   },
   "file_extension": ".py",
   "mimetype": "text/x-python",
   "name": "python",
   "nbconvert_exporter": "python",
   "pygments_lexer": "ipython3",
   "version": "3.12.2"
  }
 },
 "nbformat": 4,
 "nbformat_minor": 2
}
