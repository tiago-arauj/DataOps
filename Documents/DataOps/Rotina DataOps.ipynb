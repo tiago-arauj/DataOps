{
 "cells": [
  {
   "cell_type": "code",
   "execution_count": 14,
   "id": "6a315b58",
   "metadata": {},
   "outputs": [],
   "source": [
    "# Frameworks\n",
    "\n",
    "# lib Data e hora \n",
    "import datetime \n",
    "\n",
    "# lib sistema operacional\n",
    "import os \n",
    "import platform\n",
    "import win32com.client as win32\n",
    "\n",
    "# lib conexão\n",
    "import requests\n",
    "import socket \n",
    "\n",
    "# Avisos\n",
    "import warnings\n",
    "warnings.filterwarnings('ignore')"
   ]
  },
  {
   "cell_type": "code",
   "execution_count": 34,
   "id": "d8c4e16a",
   "metadata": {},
   "outputs": [
    {
     "name": "stdout",
     "output_type": "stream",
     "text": [
      "('arauj', 'TiagoAraujo', 'Windows-10-10.0.22621-SP0') (datetime.date(2024, 2, 14), datetime.datetime(2024, 2, 14, 23, 26, 9, 3093)) (datetime.date(2024, 2, 14), datetime.datetime(2024, 2, 14, 23, 26, 9, 3093)) False\n"
     ]
    }
   ],
   "source": [
    "# Rotinas iniciais\n",
    "\n",
    "# Nome Rotinas\n",
    "Id_Rotina = 1\n",
    "Nome_Rotina = 'Fluxo de dados - booking'\n",
    "\n",
    "# Indentificando o usuário\n",
    "\n",
    "def Identificando_Usuario():\n",
    "    \n",
    "    #Capturando user\n",
    "    Usuario = os.environ.get('USERNAME')\n",
    "\n",
    "    #Capturando maquina\n",
    "    Maquina = platform.node()\n",
    "\n",
    "    #Capturando SO\n",
    "    Sistema_Operacional = platform.platform()\n",
    "    \n",
    "    #Retorno da Função\n",
    "    return( Usuario, Maquina, Sistema_Operacional )\n",
    "\n",
    "#Identificar o inicio da execução\n",
    "def Inicio_Rotina():\n",
    "    \n",
    "    #Data de Inicio\n",
    "    Data_Inicio = datetime.datetime.today().date()\n",
    "    \n",
    "    #Hora de Inicio\n",
    "    Hora_Inicio = datetime.datetime.now()\n",
    "    \n",
    "    #Retorno da Função\n",
    "    return ( Data_Inicio, Hora_Inicio )\n",
    "\n",
    "#Identificar o termino da execução\n",
    "def Termino_Rotina():\n",
    "    \n",
    "    #Data de Inicio\n",
    "    Data_Fim = datetime.datetime.today().date()\n",
    "    \n",
    "    #Hora de Inicio\n",
    "    Hora_Fim = datetime.datetime.now()\n",
    "    \n",
    "    #Retorno da Função\n",
    "    return ( Data_Fim, Hora_Fim )\n",
    "\n",
    "# Verificando conexao de internet\n",
    "def Verificar_Conexao():\n",
    "\n",
    "    #Conexão\n",
    "    URL = 'https://www.booking.com'\n",
    "\n",
    "    #tempo de conexão\n",
    "    Timeout = 2\n",
    "\n",
    "    try:\n",
    "    #função para\n",
    "        requests.get ( URL, timeout=TimeOut )\n",
    "        return True\n",
    "\n",
    "    except:\n",
    "        return False\n",
    "\n",
    "#Gerando os parametros \n",
    "Lista_Usuario = Identificando_Usuario()\n",
    "Lista_Inicio = Inicio_Rotina()\n",
    "Lista_Termino = Termino_Rotina()\n",
    "Conexao_Internet = Verificar_Conexao()\n",
    "\n",
    "print(\n",
    "Lista_Usuario, Lista_Inicio,  Lista_Termino, Conexao_Internet )"
   ]
  },
  {
   "cell_type": "code",
   "execution_count": 28,
   "id": "02000ad4",
   "metadata": {},
   "outputs": [],
   "source": []
  },
  {
   "cell_type": "code",
   "execution_count": 32,
   "id": "adce83c3",
   "metadata": {},
   "outputs": [
    {
     "data": {
      "text/plain": [
       "False"
      ]
     },
     "execution_count": 32,
     "metadata": {},
     "output_type": "execute_result"
    }
   ],
   "source": [
    "Verificar_Conexao()"
   ]
  },
  {
   "cell_type": "code",
   "execution_count": 30,
   "id": "c63945f1",
   "metadata": {},
   "outputs": [],
   "source": [
    "# Operacional"
   ]
  },
  {
   "cell_type": "code",
   "execution_count": 31,
   "id": "ca40692d",
   "metadata": {},
   "outputs": [],
   "source": [
    "# Finalização"
   ]
  },
  {
   "cell_type": "code",
   "execution_count": null,
   "id": "67e42e54",
   "metadata": {},
   "outputs": [],
   "source": []
  },
  {
   "cell_type": "code",
   "execution_count": null,
   "id": "bfbc9104",
   "metadata": {},
   "outputs": [],
   "source": []
  }
 ],
 "metadata": {
  "kernelspec": {
   "display_name": "Python 3 (ipykernel)",
   "language": "python",
   "name": "python3"
  },
  "language_info": {
   "codemirror_mode": {
    "name": "ipython",
    "version": 3
   },
   "file_extension": ".py",
   "mimetype": "text/x-python",
   "name": "python",
   "nbconvert_exporter": "python",
   "pygments_lexer": "ipython3",
   "version": "3.11.5"
  }
 },
 "nbformat": 4,
 "nbformat_minor": 5
}
