{
 "cells": [
  {
   "cell_type": "code",
   "execution_count": 1,
   "id": "4ad816d4",
   "metadata": {},
   "outputs": [],
   "source": [
    "#Lib\n",
    "import sqlite3\n",
    "\n",
    "#Criação banco de dados\n",
    "Conexao = sqlite3.connect('Banco_Dados.db')\n",
    "\n",
    "#Apontar\n",
    "Cursor = Conexao.cursor()"
   ]
  },
  {
   "cell_type": "code",
   "execution_count": 2,
   "id": "cad7a389",
   "metadata": {},
   "outputs": [
    {
     "ename": "OperationalError",
     "evalue": "table Tabela_Processamento already exists",
     "output_type": "error",
     "traceback": [
      "\u001b[1;31m---------------------------------------------------------------------------\u001b[0m",
      "\u001b[1;31mOperationalError\u001b[0m                          Traceback (most recent call last)",
      "Cell \u001b[1;32mIn[2], line 24\u001b[0m\n\u001b[0;32m      3\u001b[0m Query \u001b[38;5;241m=\u001b[39m \u001b[38;5;124m'''\u001b[39m\n\u001b[0;32m      4\u001b[0m \n\u001b[0;32m      5\u001b[0m \u001b[38;5;124mCREATE TABLE Tabela_Processamento (\u001b[39m\n\u001b[1;32m   (...)\u001b[0m\n\u001b[0;32m     19\u001b[0m \u001b[38;5;124m)\u001b[39m\n\u001b[0;32m     20\u001b[0m \u001b[38;5;124m'''\u001b[39m\n\u001b[0;32m     22\u001b[0m \u001b[38;5;66;03m#Executando\u001b[39;00m\n\u001b[1;32m---> 24\u001b[0m Cursor\u001b[38;5;241m.\u001b[39mexecute( Query )\n\u001b[0;32m     25\u001b[0m Conexao\u001b[38;5;241m.\u001b[39mcommit()\n",
      "\u001b[1;31mOperationalError\u001b[0m: table Tabela_Processamento already exists"
     ]
    }
   ],
   "source": [
    "#Criando Tabela\n",
    "\n",
    "Query = '''\n",
    "\n",
    "CREATE TABLE Tabela_Processamento (\n",
    "    'Id_Rotina' TEXT\n",
    "    'Nome_Rotina' TEXT\n",
    "    'Usuario' TEXT\n",
    "    'Maquina' TEXT\n",
    "    'Sistema_Operacional' TEXT\n",
    "    'Data_Inicio' TEXT\n",
    "    'Horario_Inicio' TEXT\n",
    "    'Teste_Conexao' TEXT\n",
    "    'IP_Local' TEXT \n",
    "    'Data_Termino' TEXT\n",
    "    'Horario_Termino' TEXT\n",
    "    'Tempo_Execucao' TEXT\n",
    "    'Erro' TEXT\n",
    ")\n",
    "'''\n",
    "\n",
    "#Executando\n",
    "\n",
    "Cursor.execute( Query )\n",
    "Conexao.commit()"
   ]
  },
  {
   "cell_type": "code",
   "execution_count": null,
   "id": "c1bab877",
   "metadata": {},
   "outputs": [],
   "source": [
    "conexao.close()"
   ]
  }
 ],
 "metadata": {
  "kernelspec": {
   "display_name": "Python 3 (ipykernel)",
   "language": "python",
   "name": "python3"
  },
  "language_info": {
   "codemirror_mode": {
    "name": "ipython",
    "version": 3
   },
   "file_extension": ".py",
   "mimetype": "text/x-python",
   "name": "python",
   "nbconvert_exporter": "python",
   "pygments_lexer": "ipython3",
   "version": "3.11.5"
  }
 },
 "nbformat": 4,
 "nbformat_minor": 5
}
