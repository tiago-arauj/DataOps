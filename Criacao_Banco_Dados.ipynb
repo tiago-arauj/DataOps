{
 "cells": [
  {
   "cell_type": "code",
   "execution_count": 1,
   "id": "4ad816d4",
   "metadata": {},
   "outputs": [],
   "source": [
    "#Lib\n",
    "import sqlite3\n",
    "\n",
    "#Criação banco de dados\n",
    "Conexao = sqlite3.connect('Banco_Dados.db')\n",
    "\n",
    "#Apontar\n",
    "Cursor = Conexao.cursor()"
   ]
  },
  {
   "cell_type": "code",
   "execution_count": null,
   "id": "cad7a389",
   "metadata": {},
   "outputs": [],
   "source": [
    "#Criando Tabela\n",
    "\n",
    "Query = '''\n",
    "\n",
    "CREATE TABLE Tabela_Processamento (\n",
    "    'Id_Rotina' TEXT\n",
    "    'Nome_Rotina' TEXT\n",
    "    'Usuario' TEXT\n",
    "    'Maquina' TEXT\n",
    "    'Sistema_Operacional' TEXT\n",
    "    'Data_Inicio' TEXT\n",
    "    'Horario_Inicio' TEXT\n",
    "    'Teste_Conexao' TEXT\n",
    "    'IP_Local' TEXT \n",
    "    'Data_Termino' TEXT\n",
    "    'Horario_Termino' TEXT\n",
    "    'Tempo_Execucao' TEXT\n",
    "    'Erro' TEXT\n",
    ")\n",
    "'''\n",
    "\n",
    "#Executando\n",
    "\n",
    "Cursor.execute( Query )\n",
    "Conexao.commit()"
   ]
  },
  {
   "cell_type": "code",
   "execution_count": null,
   "id": "f9bea327",
   "metadata": {},
   "outputs": [],
   "source": [
    "conexao.close()"
   ]
  }
 ],
 "metadata": {
  "kernelspec": {
   "display_name": "Python 3 (ipykernel)",
   "language": "python",
   "name": "python3"
  },
  "language_info": {
   "codemirror_mode": {
    "name": "ipython",
    "version": 3
   },
   "file_extension": ".py",
   "mimetype": "text/x-python",
   "name": "python",
   "nbconvert_exporter": "python",
   "pygments_lexer": "ipython3",
   "version": "3.12.2"
  }
 },
 "nbformat": 4,
 "nbformat_minor": 5
}
