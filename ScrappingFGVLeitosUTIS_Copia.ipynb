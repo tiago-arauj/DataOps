{
 "cells": [
  {
   "cell_type": "markdown",
   "id": "d1bfa143",
   "metadata": {},
   "source": [
    "## Scrapping de informações disponibilizadas pela Fundação Getúlio Vargas\n",
    "- A fundação Getúlio Vargas disponibiliza diversos dados para auxiliar na gestão de munícipios espalhados pelo Brasil;\n",
    "- Porém, como se trata de uma ferramenta de consulta individual da situação de cada município, não é disponibilizada nenhuma ferramenta de extração de grandes massas de dados;\n",
    "- Sendo assim o presente script foi desenvolvido para extrair dados de todos os municípios do Brasil de forma automatizada."
   ]
  },
  {
   "cell_type": "code",
   "execution_count": null,
   "id": "1e2fd0b0",
   "metadata": {},
   "outputs": [],
   "source": [
    "from selenium.webdriver.support import expected_conditions as EC\n",
    "from selenium.webdriver.firefox.options import Options\n",
    "from selenium.webdriver.firefox.options import Options\n",
    "from selenium.webdriver.support.ui import WebDriverWait\n",
    "from selenium import webdriver\n",
    "from bs4 import BeautifulSoup\n",
    "from time import sleep\n",
    "import pandas as pd\n",
    "import itertools\n",
    "import requests\n",
    "import subprocess\n",
    "import sqlite3"
   ]
  },
  {
   "cell_type": "markdown",
   "id": "9786182f",
   "metadata": {},
   "source": [
    "### Iniciando navegador e primeiras interações sob a página\n"
   ]
  },
  {
   "cell_type": "code",
   "execution_count": null,
   "id": "6aacfb58",
   "metadata": {},
   "outputs": [],
   "source": [
    "# Dicionário de elementos html e seus respectivos xpaths para \n",
    "# melhor organização das interações com a biblioteca Selenium\n",
    "\n",
    "dicionario_html = {\n",
    "                'botao_indicadores' : '/html/body/nav/div/div/ul/li[2]/a',\n",
    "                'botao_municipios' : '/html/body/div[1]/div/div[2]/a[2]',\n",
    "                'botao_saude' : '/html/body/div[2]/div[1]/div[2]/div/div/div/ul/li[6]/a',\n",
    "                'botao_quant_UTI' : '/html/body/div[2]/div[2]/div/div/div/div[9]/div[3]/h2/button',\n",
    "                'barra_pesq_muni' : '/html/body/div[1]/div[1]/div[3]/form/span/span[1]/span/span/textarea',\n",
    "                'botao_deselec_muni' : '/html/body/div[1]/div[1]/div[3]/form/span/span[1]/span/ul/li/button/span',\n",
    "                'botao_selec_muni' : '/html/body/span/span/span/ul/li/ul/li[1]',\n",
    "                'corpo_grafico_quant_UTI' : '/html/body/div[2]/div[2]/div/div/div/div[9]/div[3]/div/div/div[3]/div/div/div[3]/div[1]/table/tbody'\n",
    "                }"
   ]
  },
  {
   "cell_type": "markdown",
   "id": "85638242",
   "metadata": {},
   "source": [
    "##### Tópico a serem extraídos da temática Saúde:\n",
    "- Quantidade de médicos a cada 1000 habitantes\n",
    "- Quantidade de leitos de UTI por município\n",
    "- Gasto com saúde por habitante"
   ]
  },
  {
   "cell_type": "code",
   "execution_count": null,
   "id": "30ab7c3b",
   "metadata": {},
   "outputs": [],
   "source": [
    "firefox_options = Options()\n",
    "firefox_options.headless = True\n",
    "\n",
    "navegador = webdriver.Firefox()\n",
    "url = 'https://municipios.fgv.br/'\n",
    "navegador.get(url)\n",
    "\n",
    "wait = WebDriverWait(navegador, 10)\n",
    "wait.until(EC.presence_of_element_located(('xpath', dicionario_html['botao_indicadores'])))\n",
    "navegador.find_element('xpath', dicionario_html['botao_indicadores']).click()\n",
    "\n",
    "wait.until(EC.presence_of_element_located(('xpath', dicionario_html['botao_municipios'])))\n",
    "navegador.find_element('xpath', dicionario_html['botao_municipios']).click()\n",
    "\n",
    "wait.until(EC.presence_of_element_located(('xpath', dicionario_html['botao_saude'])))\n",
    "navegador.find_element('xpath', dicionario_html['botao_saude']).click()"
   ]
  },
  {
   "cell_type": "markdown",
   "id": "b3c07d5e",
   "metadata": {},
   "source": [
    "# Quantidade de Leitos de UTI por município"
   ]
  },
  {
   "cell_type": "markdown",
   "id": "367894d9",
   "metadata": {},
   "source": [
    "#### Criando lista com o nome e sigla do estado de cada município do Brasil"
   ]
  },
  {
   "cell_type": "code",
   "execution_count": null,
   "id": "945f7bbb",
   "metadata": {},
   "outputs": [],
   "source": [
    "url_api = 'https://blog.mds.gov.br/redesuas/wp-content/uploads/2018/06/Lista_Munic%C3%ADpios_com_IBGE_Brasil_Versao_CSV.csv'\n",
    "response = requests.get(url_api)\n",
    "dados = response.text\n",
    "\n",
    "linhas = dados.strip().split('\\n')\n",
    "linhas_divididas = [linha.split(';') for linha in linhas]\n",
    "df_cidades_estado = pd.DataFrame(linhas_divididas)\n",
    "df_cidades_estado.columns = ['ConcatUF+Mun', 'IBGE', 'IBGE7', 'UF', 'Município', 'Região', 'População 2010', 'Porte', 'Capital', 'Extra', 'x', 'y', 'z']\n",
    "\n",
    "cidades = []\n",
    "estados = []\n",
    "for i in range(len(df_cidades_estado)):\n",
    "    cidades.append(df_cidades_estado['Município'].iloc[i])\n",
    "    estados.append(df_cidades_estado['UF'].iloc[i])\n",
    "\n",
    "cidades_estado = []\n",
    "for i in range(len(cidades)):\n",
    "    cidades_estado.append(cidades[i] + '/' + estados[i])"
   ]
  },
  {
   "cell_type": "markdown",
   "id": "7de0e8ba",
   "metadata": {},
   "source": [
    "#### Tratamento na lista de cidades e estados"
   ]
  },
  {
   "cell_type": "code",
   "execution_count": null,
   "id": "5dd3bee4",
   "metadata": {},
   "outputs": [],
   "source": [
    "resultado = []\n",
    "\n",
    "index_principal = 0\n",
    "for cidade_estado in cidades_estado:\n",
    "    caracteres = list(cidade_estado)\n",
    "    \n",
    "    index_secundario = 0\n",
    "    for caractere in caracteres:\n",
    "        if caractere == '-' or caractere == \"´\":\n",
    "            caracteres[index_secundario + 1] = caracteres[index_secundario + 1].upper()\n",
    "        index_secundario += 1\n",
    "        \n",
    "    palavra_final = ''.join(caracteres)\n",
    "    palavra_final = palavra_final.replace('´', \"'\")\n",
    "    cidades_estado[index_principal] = palavra_final\n",
    "    index_principal += 1\n",
    "\n",
    "cidades_estado.pop(0)\n",
    "\n"
   ]
  },
  {
   "cell_type": "markdown",
   "id": "4b88386b",
   "metadata": {},
   "source": [
    "#### COPIANDO OS MUNICIPIOS TRATADOS"
   ]
  },
  {
   "cell_type": "code",
   "execution_count": 6,
   "metadata": {},
   "outputs": [],
   "source": [
    "\n",
    "resultado = ' '.join(cidades_estado)\n",
    "\n",
    "# Copia o resultado para a área de transferência\n",
    "def area_transferencia(resultado):\n",
    "\n",
    "    try:\n",
    "        processo = subprocess.Popen('clip', env={'LANG': 'pt_BR.UTF-16'}, stdin=subprocess.PIPE)\n",
    "        processo.communicate(resultado.encode('utf-16'))\n",
    "        resultado\n",
    "    except Exception as e:\n",
    "        print(\"Erro ao copiar para a área de transferência:\", str(e))\n",
    "        \n",
    "def formatar_cidade_estado(cidade_estado):\n",
    "    municipio, estado = cidade_estado.split('/')\n",
    "    municipio = municipio.strip().replace('-', ' ').title().replace('´', \"'\").replace('`', \"'\")\n",
    "    estado = estado.strip().lower()\n",
    "    return f\"{municipio}/{estado}\"\n",
    "\n",
    "#Criando conexao SQL\n",
    "conn = sqlite3.connect('municipios.db')\n",
    "\n",
    "#cursor SQL\n",
    "cursor = conn.cursor()\n",
    "\n",
    "# Verificando se a tabela já existe\n",
    "cursor.execute(\"SELECT count(name) FROM sqlite_master WHERE type='table' AND name='municipios'\")\n",
    "if cursor.fetchone()[0] == 0:\n",
    "\n",
    "#Criando tabela\n",
    "    cursor.execute('''\n",
    "    CREATE TABLE IF NOT EXISTS municipios (\n",
    "        id INTEGER PRIMARY KEY,\n",
    "        municipio TEXT,\n",
    "        uf TEXT\n",
    "    )\n",
    "''')\n",
    "\n",
    "for cidade_estado in cidades_estado:\n",
    "    resultado_formatado = formatar_cidade_estado(cidade_estado)\n",
    "    area_transferencia(resultado_formatado)\n",
    "    # Aguarde uma entrada do usuário antes de prosseguir para o próximo\n",
    "    input(\"Pressione Enter para copiar o próximo município/UF...\")\n",
    "    \n",
    "conn.close()\n",
    "Rotina = (\"Tabela criada e preenchida e item copiado\")\n",
    "\n",
    "Rotina"
   ]
  },
  {
   "cell_type": "markdown",
   "id": "5593c93c",
   "metadata": {},
   "source": [
    "#### Iterando Sob a lista de cidades e estados e extraindo o copo HTML necessário\n"
   ]
  },
  {
   "cell_type": "markdown",
   "id": "b75c923b",
   "metadata": {},
   "source": [
    "#### Extraindo informações da quantidade de leitos de UTI do corpo HTML da tabela"
   ]
  }
 ],
 "metadata": {
  "kernelspec": {
   "display_name": "Python 3 (ipykernel)",
   "language": "python",
   "name": "python3"
  },
  "language_info": {
   "codemirror_mode": {
    "name": "ipython",
    "version": 3
   },
   "file_extension": ".py",
   "mimetype": "text/x-python",
   "name": "python",
   "nbconvert_exporter": "python",
   "pygments_lexer": "ipython3",
   "version": "3.12.2"
  }
 },
 "nbformat": 4,
 "nbformat_minor": 5
}
